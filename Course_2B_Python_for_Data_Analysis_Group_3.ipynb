{
  "nbformat": 4,
  "nbformat_minor": 0,
  "metadata": {
    "colab": {
      "provenance": [],
      "include_colab_link": true
    },
    "kernelspec": {
      "name": "python3",
      "display_name": "Python 3"
    },
    "language_info": {
      "name": "python"
    }
  },
  "cells": [
    {
      "cell_type": "markdown",
      "metadata": {
        "id": "view-in-github",
        "colab_type": "text"
      },
      "source": [
        "<a href=\"https://colab.research.google.com/github/dlafrc/SummerCourse-3_Course-2B-Python-for-Data-Analysis/blob/main/Course_2B_Python_for_Data_Analysis_Group_3.ipynb\" target=\"_parent\"><img src=\"https://colab.research.google.com/assets/colab-badge.svg\" alt=\"Open In Colab\"/></a>"
      ]
    },
    {
      "cell_type": "markdown",
      "source": [
        "# **Course 2B: Python for Data Analysis**\n",
        "Group 3:\n",
        "*   Muhammad Al-Zukarnaim Bin Sapti (Universiti Teknologi Mara (UiTM))\n",
        "*   Rozaina Binti Zainul Rashid (Universiti Teknologi Malaysia)\n",
        "*   Della Rachmatika Noer Intanty (Universitas Pendidikan Indonesia)\n",
        "*   Dk Siti Nurul Mashitah binti Pg Mohd Sahar (Universiti Islam Sultan Sharif Ali (UNISSA))\n",
        "*   Azubuike Fortune Okpala (University of Cyberjaya)"
      ],
      "metadata": {
        "id": "oyZa0f-9BH33"
      }
    },
    {
      "cell_type": "code",
      "source": [
        "#Import pyhton libraries\n",
        "\n",
        "import numpy as np\n",
        "import pandas as pd\n",
        "import matplotlib.pyplot as plt\n",
        "import seaborn as sns"
      ],
      "metadata": {
        "id": "oVV8bdIrB-to"
      },
      "execution_count": 3,
      "outputs": []
    },
    {
      "cell_type": "code",
      "source": [
        "from google.colab import files\n",
        "uploaded = files.upload()"
      ],
      "metadata": {
        "id": "LWfovFT_CCf0",
        "colab": {
          "base_uri": "https://localhost:8080/",
          "height": 73
        },
        "outputId": "f7ffee57-9dbf-4be2-86f7-74757d79a486"
      },
      "execution_count": 4,
      "outputs": [
        {
          "output_type": "display_data",
          "data": {
            "text/plain": [
              "<IPython.core.display.HTML object>"
            ],
            "text/html": [
              "\n",
              "     <input type=\"file\" id=\"files-83584ea4-afe5-469a-8ab0-ddf0c365502f\" name=\"files[]\" multiple disabled\n",
              "        style=\"border:none\" />\n",
              "     <output id=\"result-83584ea4-afe5-469a-8ab0-ddf0c365502f\">\n",
              "      Upload widget is only available when the cell has been executed in the\n",
              "      current browser session. Please rerun this cell to enable.\n",
              "      </output>\n",
              "      <script>// Copyright 2017 Google LLC\n",
              "//\n",
              "// Licensed under the Apache License, Version 2.0 (the \"License\");\n",
              "// you may not use this file except in compliance with the License.\n",
              "// You may obtain a copy of the License at\n",
              "//\n",
              "//      http://www.apache.org/licenses/LICENSE-2.0\n",
              "//\n",
              "// Unless required by applicable law or agreed to in writing, software\n",
              "// distributed under the License is distributed on an \"AS IS\" BASIS,\n",
              "// WITHOUT WARRANTIES OR CONDITIONS OF ANY KIND, either express or implied.\n",
              "// See the License for the specific language governing permissions and\n",
              "// limitations under the License.\n",
              "\n",
              "/**\n",
              " * @fileoverview Helpers for google.colab Python module.\n",
              " */\n",
              "(function(scope) {\n",
              "function span(text, styleAttributes = {}) {\n",
              "  const element = document.createElement('span');\n",
              "  element.textContent = text;\n",
              "  for (const key of Object.keys(styleAttributes)) {\n",
              "    element.style[key] = styleAttributes[key];\n",
              "  }\n",
              "  return element;\n",
              "}\n",
              "\n",
              "// Max number of bytes which will be uploaded at a time.\n",
              "const MAX_PAYLOAD_SIZE = 100 * 1024;\n",
              "\n",
              "function _uploadFiles(inputId, outputId) {\n",
              "  const steps = uploadFilesStep(inputId, outputId);\n",
              "  const outputElement = document.getElementById(outputId);\n",
              "  // Cache steps on the outputElement to make it available for the next call\n",
              "  // to uploadFilesContinue from Python.\n",
              "  outputElement.steps = steps;\n",
              "\n",
              "  return _uploadFilesContinue(outputId);\n",
              "}\n",
              "\n",
              "// This is roughly an async generator (not supported in the browser yet),\n",
              "// where there are multiple asynchronous steps and the Python side is going\n",
              "// to poll for completion of each step.\n",
              "// This uses a Promise to block the python side on completion of each step,\n",
              "// then passes the result of the previous step as the input to the next step.\n",
              "function _uploadFilesContinue(outputId) {\n",
              "  const outputElement = document.getElementById(outputId);\n",
              "  const steps = outputElement.steps;\n",
              "\n",
              "  const next = steps.next(outputElement.lastPromiseValue);\n",
              "  return Promise.resolve(next.value.promise).then((value) => {\n",
              "    // Cache the last promise value to make it available to the next\n",
              "    // step of the generator.\n",
              "    outputElement.lastPromiseValue = value;\n",
              "    return next.value.response;\n",
              "  });\n",
              "}\n",
              "\n",
              "/**\n",
              " * Generator function which is called between each async step of the upload\n",
              " * process.\n",
              " * @param {string} inputId Element ID of the input file picker element.\n",
              " * @param {string} outputId Element ID of the output display.\n",
              " * @return {!Iterable<!Object>} Iterable of next steps.\n",
              " */\n",
              "function* uploadFilesStep(inputId, outputId) {\n",
              "  const inputElement = document.getElementById(inputId);\n",
              "  inputElement.disabled = false;\n",
              "\n",
              "  const outputElement = document.getElementById(outputId);\n",
              "  outputElement.innerHTML = '';\n",
              "\n",
              "  const pickedPromise = new Promise((resolve) => {\n",
              "    inputElement.addEventListener('change', (e) => {\n",
              "      resolve(e.target.files);\n",
              "    });\n",
              "  });\n",
              "\n",
              "  const cancel = document.createElement('button');\n",
              "  inputElement.parentElement.appendChild(cancel);\n",
              "  cancel.textContent = 'Cancel upload';\n",
              "  const cancelPromise = new Promise((resolve) => {\n",
              "    cancel.onclick = () => {\n",
              "      resolve(null);\n",
              "    };\n",
              "  });\n",
              "\n",
              "  // Wait for the user to pick the files.\n",
              "  const files = yield {\n",
              "    promise: Promise.race([pickedPromise, cancelPromise]),\n",
              "    response: {\n",
              "      action: 'starting',\n",
              "    }\n",
              "  };\n",
              "\n",
              "  cancel.remove();\n",
              "\n",
              "  // Disable the input element since further picks are not allowed.\n",
              "  inputElement.disabled = true;\n",
              "\n",
              "  if (!files) {\n",
              "    return {\n",
              "      response: {\n",
              "        action: 'complete',\n",
              "      }\n",
              "    };\n",
              "  }\n",
              "\n",
              "  for (const file of files) {\n",
              "    const li = document.createElement('li');\n",
              "    li.append(span(file.name, {fontWeight: 'bold'}));\n",
              "    li.append(span(\n",
              "        `(${file.type || 'n/a'}) - ${file.size} bytes, ` +\n",
              "        `last modified: ${\n",
              "            file.lastModifiedDate ? file.lastModifiedDate.toLocaleDateString() :\n",
              "                                    'n/a'} - `));\n",
              "    const percent = span('0% done');\n",
              "    li.appendChild(percent);\n",
              "\n",
              "    outputElement.appendChild(li);\n",
              "\n",
              "    const fileDataPromise = new Promise((resolve) => {\n",
              "      const reader = new FileReader();\n",
              "      reader.onload = (e) => {\n",
              "        resolve(e.target.result);\n",
              "      };\n",
              "      reader.readAsArrayBuffer(file);\n",
              "    });\n",
              "    // Wait for the data to be ready.\n",
              "    let fileData = yield {\n",
              "      promise: fileDataPromise,\n",
              "      response: {\n",
              "        action: 'continue',\n",
              "      }\n",
              "    };\n",
              "\n",
              "    // Use a chunked sending to avoid message size limits. See b/62115660.\n",
              "    let position = 0;\n",
              "    do {\n",
              "      const length = Math.min(fileData.byteLength - position, MAX_PAYLOAD_SIZE);\n",
              "      const chunk = new Uint8Array(fileData, position, length);\n",
              "      position += length;\n",
              "\n",
              "      const base64 = btoa(String.fromCharCode.apply(null, chunk));\n",
              "      yield {\n",
              "        response: {\n",
              "          action: 'append',\n",
              "          file: file.name,\n",
              "          data: base64,\n",
              "        },\n",
              "      };\n",
              "\n",
              "      let percentDone = fileData.byteLength === 0 ?\n",
              "          100 :\n",
              "          Math.round((position / fileData.byteLength) * 100);\n",
              "      percent.textContent = `${percentDone}% done`;\n",
              "\n",
              "    } while (position < fileData.byteLength);\n",
              "  }\n",
              "\n",
              "  // All done.\n",
              "  yield {\n",
              "    response: {\n",
              "      action: 'complete',\n",
              "    }\n",
              "  };\n",
              "}\n",
              "\n",
              "scope.google = scope.google || {};\n",
              "scope.google.colab = scope.google.colab || {};\n",
              "scope.google.colab._files = {\n",
              "  _uploadFiles,\n",
              "  _uploadFilesContinue,\n",
              "};\n",
              "})(self);\n",
              "</script> "
            ]
          },
          "metadata": {}
        },
        {
          "output_type": "stream",
          "name": "stdout",
          "text": [
            "Saving orderdataset.xlsx to orderdataset.xlsx\n"
          ]
        }
      ]
    },
    {
      "cell_type": "code",
      "source": [
        "#read excel file\n",
        "df = pd.read_excel(\"orderdataset.xlsx\")"
      ],
      "metadata": {
        "id": "ZkUOpMy8CaIA"
      },
      "execution_count": 7,
      "outputs": []
    },
    {
      "cell_type": "code",
      "source": [
        "#reading list of the data\n",
        "df.head()"
      ],
      "metadata": {
        "colab": {
          "base_uri": "https://localhost:8080/",
          "height": 226
        },
        "id": "ypUyXbPXCj2L",
        "outputId": "bb714f56-d517-4b8d-dace-a5b464addbfc"
      },
      "execution_count": 8,
      "outputs": [
        {
          "output_type": "execute_result",
          "data": {
            "text/plain": [
              "                           order_id  quantity  \\\n",
              "0  2e7a8482f6fb09756ca50c10d7bfc047         2   \n",
              "1  2e7a8482f6fb09756ca50c10d7bfc047         1   \n",
              "2  e5fa5a7210941f7d56d0208e4e071d35         1   \n",
              "3  3b697a20d9e427646d92567910af6d57         1   \n",
              "4  71303d7e93b399f5bcd537d124c0bcfa         1   \n",
              "\n",
              "                         product_id    price  \\\n",
              "0  f293394c72c9b5fafd7023301fc21fc2  1489000   \n",
              "1  c1488892604e4ba5cff5b4eb4d595400  1756000   \n",
              "2  f3c2d01a84c947b078e32bbef0718962  1707000   \n",
              "3  3ae08df6bcbfe23586dd431c40bddbb7  3071000   \n",
              "4  d2998d7ced12f83f9b832f33cf6507b6  3833000   \n",
              "\n",
              "                          seller_id  freight_value  \\\n",
              "0  1554a68530182680ad5c8b042c3ab563          28000   \n",
              "1  1554a68530182680ad5c8b042c3ab563          45000   \n",
              "2  a425f92c199eb576938df686728acd20         174000   \n",
              "3  522620dcb18a6b31cd7bdf73665113a9         154000   \n",
              "4  25e6ffe976bd75618accfe16cefcbd0d         147000   \n",
              "\n",
              "                        customer_id order_status purchase_date  \\\n",
              "0  08c5351a6aca1c1589a38f244edeee9d      shipped    2016-09-05   \n",
              "1  08c5351a6aca1c1589a38f244edeee9d      shipped    2016-09-05   \n",
              "2  683c54fc24d40ee9f8a6fc179fd9856c     canceled    2016-09-05   \n",
              "3  355077684019f7f60a031656bd7262b8    delivered    2016-10-03   \n",
              "4  b106b360fe2ef8849fbbd056f777b4d5     canceled    2016-10-03   \n",
              "\n",
              "      payment_type product_category_name  product_weight_gram  \n",
              "0  virtual account               fashion               1800.0  \n",
              "1  virtual account            automotive               1400.0  \n",
              "2         e-wallet                  toys                700.0  \n",
              "3         e-wallet             utilities                300.0  \n",
              "4         e-wallet               fashion                500.0  "
            ],
            "text/html": [
              "\n",
              "  <div id=\"df-1f64fb15-3dad-454b-af72-9fcad15172d1\" class=\"colab-df-container\">\n",
              "    <div>\n",
              "<style scoped>\n",
              "    .dataframe tbody tr th:only-of-type {\n",
              "        vertical-align: middle;\n",
              "    }\n",
              "\n",
              "    .dataframe tbody tr th {\n",
              "        vertical-align: top;\n",
              "    }\n",
              "\n",
              "    .dataframe thead th {\n",
              "        text-align: right;\n",
              "    }\n",
              "</style>\n",
              "<table border=\"1\" class=\"dataframe\">\n",
              "  <thead>\n",
              "    <tr style=\"text-align: right;\">\n",
              "      <th></th>\n",
              "      <th>order_id</th>\n",
              "      <th>quantity</th>\n",
              "      <th>product_id</th>\n",
              "      <th>price</th>\n",
              "      <th>seller_id</th>\n",
              "      <th>freight_value</th>\n",
              "      <th>customer_id</th>\n",
              "      <th>order_status</th>\n",
              "      <th>purchase_date</th>\n",
              "      <th>payment_type</th>\n",
              "      <th>product_category_name</th>\n",
              "      <th>product_weight_gram</th>\n",
              "    </tr>\n",
              "  </thead>\n",
              "  <tbody>\n",
              "    <tr>\n",
              "      <th>0</th>\n",
              "      <td>2e7a8482f6fb09756ca50c10d7bfc047</td>\n",
              "      <td>2</td>\n",
              "      <td>f293394c72c9b5fafd7023301fc21fc2</td>\n",
              "      <td>1489000</td>\n",
              "      <td>1554a68530182680ad5c8b042c3ab563</td>\n",
              "      <td>28000</td>\n",
              "      <td>08c5351a6aca1c1589a38f244edeee9d</td>\n",
              "      <td>shipped</td>\n",
              "      <td>2016-09-05</td>\n",
              "      <td>virtual account</td>\n",
              "      <td>fashion</td>\n",
              "      <td>1800.0</td>\n",
              "    </tr>\n",
              "    <tr>\n",
              "      <th>1</th>\n",
              "      <td>2e7a8482f6fb09756ca50c10d7bfc047</td>\n",
              "      <td>1</td>\n",
              "      <td>c1488892604e4ba5cff5b4eb4d595400</td>\n",
              "      <td>1756000</td>\n",
              "      <td>1554a68530182680ad5c8b042c3ab563</td>\n",
              "      <td>45000</td>\n",
              "      <td>08c5351a6aca1c1589a38f244edeee9d</td>\n",
              "      <td>shipped</td>\n",
              "      <td>2016-09-05</td>\n",
              "      <td>virtual account</td>\n",
              "      <td>automotive</td>\n",
              "      <td>1400.0</td>\n",
              "    </tr>\n",
              "    <tr>\n",
              "      <th>2</th>\n",
              "      <td>e5fa5a7210941f7d56d0208e4e071d35</td>\n",
              "      <td>1</td>\n",
              "      <td>f3c2d01a84c947b078e32bbef0718962</td>\n",
              "      <td>1707000</td>\n",
              "      <td>a425f92c199eb576938df686728acd20</td>\n",
              "      <td>174000</td>\n",
              "      <td>683c54fc24d40ee9f8a6fc179fd9856c</td>\n",
              "      <td>canceled</td>\n",
              "      <td>2016-09-05</td>\n",
              "      <td>e-wallet</td>\n",
              "      <td>toys</td>\n",
              "      <td>700.0</td>\n",
              "    </tr>\n",
              "    <tr>\n",
              "      <th>3</th>\n",
              "      <td>3b697a20d9e427646d92567910af6d57</td>\n",
              "      <td>1</td>\n",
              "      <td>3ae08df6bcbfe23586dd431c40bddbb7</td>\n",
              "      <td>3071000</td>\n",
              "      <td>522620dcb18a6b31cd7bdf73665113a9</td>\n",
              "      <td>154000</td>\n",
              "      <td>355077684019f7f60a031656bd7262b8</td>\n",
              "      <td>delivered</td>\n",
              "      <td>2016-10-03</td>\n",
              "      <td>e-wallet</td>\n",
              "      <td>utilities</td>\n",
              "      <td>300.0</td>\n",
              "    </tr>\n",
              "    <tr>\n",
              "      <th>4</th>\n",
              "      <td>71303d7e93b399f5bcd537d124c0bcfa</td>\n",
              "      <td>1</td>\n",
              "      <td>d2998d7ced12f83f9b832f33cf6507b6</td>\n",
              "      <td>3833000</td>\n",
              "      <td>25e6ffe976bd75618accfe16cefcbd0d</td>\n",
              "      <td>147000</td>\n",
              "      <td>b106b360fe2ef8849fbbd056f777b4d5</td>\n",
              "      <td>canceled</td>\n",
              "      <td>2016-10-03</td>\n",
              "      <td>e-wallet</td>\n",
              "      <td>fashion</td>\n",
              "      <td>500.0</td>\n",
              "    </tr>\n",
              "  </tbody>\n",
              "</table>\n",
              "</div>\n",
              "    <div class=\"colab-df-buttons\">\n",
              "\n",
              "  <div class=\"colab-df-container\">\n",
              "    <button class=\"colab-df-convert\" onclick=\"convertToInteractive('df-1f64fb15-3dad-454b-af72-9fcad15172d1')\"\n",
              "            title=\"Convert this dataframe to an interactive table.\"\n",
              "            style=\"display:none;\">\n",
              "\n",
              "  <svg xmlns=\"http://www.w3.org/2000/svg\" height=\"24px\" viewBox=\"0 -960 960 960\">\n",
              "    <path d=\"M120-120v-720h720v720H120Zm60-500h600v-160H180v160Zm220 220h160v-160H400v160Zm0 220h160v-160H400v160ZM180-400h160v-160H180v160Zm440 0h160v-160H620v160ZM180-180h160v-160H180v160Zm440 0h160v-160H620v160Z\"/>\n",
              "  </svg>\n",
              "    </button>\n",
              "\n",
              "  <style>\n",
              "    .colab-df-container {\n",
              "      display:flex;\n",
              "      gap: 12px;\n",
              "    }\n",
              "\n",
              "    .colab-df-convert {\n",
              "      background-color: #E8F0FE;\n",
              "      border: none;\n",
              "      border-radius: 50%;\n",
              "      cursor: pointer;\n",
              "      display: none;\n",
              "      fill: #1967D2;\n",
              "      height: 32px;\n",
              "      padding: 0 0 0 0;\n",
              "      width: 32px;\n",
              "    }\n",
              "\n",
              "    .colab-df-convert:hover {\n",
              "      background-color: #E2EBFA;\n",
              "      box-shadow: 0px 1px 2px rgba(60, 64, 67, 0.3), 0px 1px 3px 1px rgba(60, 64, 67, 0.15);\n",
              "      fill: #174EA6;\n",
              "    }\n",
              "\n",
              "    .colab-df-buttons div {\n",
              "      margin-bottom: 4px;\n",
              "    }\n",
              "\n",
              "    [theme=dark] .colab-df-convert {\n",
              "      background-color: #3B4455;\n",
              "      fill: #D2E3FC;\n",
              "    }\n",
              "\n",
              "    [theme=dark] .colab-df-convert:hover {\n",
              "      background-color: #434B5C;\n",
              "      box-shadow: 0px 1px 3px 1px rgba(0, 0, 0, 0.15);\n",
              "      filter: drop-shadow(0px 1px 2px rgba(0, 0, 0, 0.3));\n",
              "      fill: #FFFFFF;\n",
              "    }\n",
              "  </style>\n",
              "\n",
              "    <script>\n",
              "      const buttonEl =\n",
              "        document.querySelector('#df-1f64fb15-3dad-454b-af72-9fcad15172d1 button.colab-df-convert');\n",
              "      buttonEl.style.display =\n",
              "        google.colab.kernel.accessAllowed ? 'block' : 'none';\n",
              "\n",
              "      async function convertToInteractive(key) {\n",
              "        const element = document.querySelector('#df-1f64fb15-3dad-454b-af72-9fcad15172d1');\n",
              "        const dataTable =\n",
              "          await google.colab.kernel.invokeFunction('convertToInteractive',\n",
              "                                                    [key], {});\n",
              "        if (!dataTable) return;\n",
              "\n",
              "        const docLinkHtml = 'Like what you see? Visit the ' +\n",
              "          '<a target=\"_blank\" href=https://colab.research.google.com/notebooks/data_table.ipynb>data table notebook</a>'\n",
              "          + ' to learn more about interactive tables.';\n",
              "        element.innerHTML = '';\n",
              "        dataTable['output_type'] = 'display_data';\n",
              "        await google.colab.output.renderOutput(dataTable, element);\n",
              "        const docLink = document.createElement('div');\n",
              "        docLink.innerHTML = docLinkHtml;\n",
              "        element.appendChild(docLink);\n",
              "      }\n",
              "    </script>\n",
              "  </div>\n",
              "\n",
              "\n",
              "<div id=\"df-01f5702a-835e-4598-ad94-f30cbee76105\">\n",
              "  <button class=\"colab-df-quickchart\" onclick=\"quickchart('df-01f5702a-835e-4598-ad94-f30cbee76105')\"\n",
              "            title=\"Suggest charts\"\n",
              "            style=\"display:none;\">\n",
              "\n",
              "<svg xmlns=\"http://www.w3.org/2000/svg\" height=\"24px\"viewBox=\"0 0 24 24\"\n",
              "     width=\"24px\">\n",
              "    <g>\n",
              "        <path d=\"M19 3H5c-1.1 0-2 .9-2 2v14c0 1.1.9 2 2 2h14c1.1 0 2-.9 2-2V5c0-1.1-.9-2-2-2zM9 17H7v-7h2v7zm4 0h-2V7h2v10zm4 0h-2v-4h2v4z\"/>\n",
              "    </g>\n",
              "</svg>\n",
              "  </button>\n",
              "\n",
              "<style>\n",
              "  .colab-df-quickchart {\n",
              "      --bg-color: #E8F0FE;\n",
              "      --fill-color: #1967D2;\n",
              "      --hover-bg-color: #E2EBFA;\n",
              "      --hover-fill-color: #174EA6;\n",
              "      --disabled-fill-color: #AAA;\n",
              "      --disabled-bg-color: #DDD;\n",
              "  }\n",
              "\n",
              "  [theme=dark] .colab-df-quickchart {\n",
              "      --bg-color: #3B4455;\n",
              "      --fill-color: #D2E3FC;\n",
              "      --hover-bg-color: #434B5C;\n",
              "      --hover-fill-color: #FFFFFF;\n",
              "      --disabled-bg-color: #3B4455;\n",
              "      --disabled-fill-color: #666;\n",
              "  }\n",
              "\n",
              "  .colab-df-quickchart {\n",
              "    background-color: var(--bg-color);\n",
              "    border: none;\n",
              "    border-radius: 50%;\n",
              "    cursor: pointer;\n",
              "    display: none;\n",
              "    fill: var(--fill-color);\n",
              "    height: 32px;\n",
              "    padding: 0;\n",
              "    width: 32px;\n",
              "  }\n",
              "\n",
              "  .colab-df-quickchart:hover {\n",
              "    background-color: var(--hover-bg-color);\n",
              "    box-shadow: 0 1px 2px rgba(60, 64, 67, 0.3), 0 1px 3px 1px rgba(60, 64, 67, 0.15);\n",
              "    fill: var(--button-hover-fill-color);\n",
              "  }\n",
              "\n",
              "  .colab-df-quickchart-complete:disabled,\n",
              "  .colab-df-quickchart-complete:disabled:hover {\n",
              "    background-color: var(--disabled-bg-color);\n",
              "    fill: var(--disabled-fill-color);\n",
              "    box-shadow: none;\n",
              "  }\n",
              "\n",
              "  .colab-df-spinner {\n",
              "    border: 2px solid var(--fill-color);\n",
              "    border-color: transparent;\n",
              "    border-bottom-color: var(--fill-color);\n",
              "    animation:\n",
              "      spin 1s steps(1) infinite;\n",
              "  }\n",
              "\n",
              "  @keyframes spin {\n",
              "    0% {\n",
              "      border-color: transparent;\n",
              "      border-bottom-color: var(--fill-color);\n",
              "      border-left-color: var(--fill-color);\n",
              "    }\n",
              "    20% {\n",
              "      border-color: transparent;\n",
              "      border-left-color: var(--fill-color);\n",
              "      border-top-color: var(--fill-color);\n",
              "    }\n",
              "    30% {\n",
              "      border-color: transparent;\n",
              "      border-left-color: var(--fill-color);\n",
              "      border-top-color: var(--fill-color);\n",
              "      border-right-color: var(--fill-color);\n",
              "    }\n",
              "    40% {\n",
              "      border-color: transparent;\n",
              "      border-right-color: var(--fill-color);\n",
              "      border-top-color: var(--fill-color);\n",
              "    }\n",
              "    60% {\n",
              "      border-color: transparent;\n",
              "      border-right-color: var(--fill-color);\n",
              "    }\n",
              "    80% {\n",
              "      border-color: transparent;\n",
              "      border-right-color: var(--fill-color);\n",
              "      border-bottom-color: var(--fill-color);\n",
              "    }\n",
              "    90% {\n",
              "      border-color: transparent;\n",
              "      border-bottom-color: var(--fill-color);\n",
              "    }\n",
              "  }\n",
              "</style>\n",
              "\n",
              "  <script>\n",
              "    async function quickchart(key) {\n",
              "      const quickchartButtonEl =\n",
              "        document.querySelector('#' + key + ' button');\n",
              "      quickchartButtonEl.disabled = true;  // To prevent multiple clicks.\n",
              "      quickchartButtonEl.classList.add('colab-df-spinner');\n",
              "      try {\n",
              "        const charts = await google.colab.kernel.invokeFunction(\n",
              "            'suggestCharts', [key], {});\n",
              "      } catch (error) {\n",
              "        console.error('Error during call to suggestCharts:', error);\n",
              "      }\n",
              "      quickchartButtonEl.classList.remove('colab-df-spinner');\n",
              "      quickchartButtonEl.classList.add('colab-df-quickchart-complete');\n",
              "    }\n",
              "    (() => {\n",
              "      let quickchartButtonEl =\n",
              "        document.querySelector('#df-01f5702a-835e-4598-ad94-f30cbee76105 button');\n",
              "      quickchartButtonEl.style.display =\n",
              "        google.colab.kernel.accessAllowed ? 'block' : 'none';\n",
              "    })();\n",
              "  </script>\n",
              "</div>\n",
              "\n",
              "    </div>\n",
              "  </div>\n"
            ],
            "application/vnd.google.colaboratory.intrinsic+json": {
              "type": "dataframe",
              "variable_name": "df",
              "summary": "{\n  \"name\": \"df\",\n  \"rows\": 49999,\n  \"fields\": [\n    {\n      \"column\": \"order_id\",\n      \"properties\": {\n        \"dtype\": \"string\",\n        \"num_unique_values\": 42694,\n        \"samples\": [\n          \"ead4bdb20456cba846bb4d83e5a870a0\",\n          \"8553cd91f67faa93fd2aa45148bcc3c8\",\n          \"6537332794df2373bdf9142f7e6c33bd\"\n        ],\n        \"semantic_type\": \"\",\n        \"description\": \"\"\n      }\n    },\n    {\n      \"column\": \"quantity\",\n      \"properties\": {\n        \"dtype\": \"number\",\n        \"std\": 0,\n        \"min\": 1,\n        \"max\": 21,\n        \"num_unique_values\": 21,\n        \"samples\": [\n          2,\n          18,\n          20\n        ],\n        \"semantic_type\": \"\",\n        \"description\": \"\"\n      }\n    },\n    {\n      \"column\": \"product_id\",\n      \"properties\": {\n        \"dtype\": \"category\",\n        \"num_unique_values\": 16866,\n        \"samples\": [\n          \"27672da99215b426dc0ced05731bccc6\",\n          \"34b14512f2273a75361c2809e3c3f8ac\",\n          \"7e4453fdebc830f4198332526054960f\"\n        ],\n        \"semantic_type\": \"\",\n        \"description\": \"\"\n      }\n    },\n    {\n      \"column\": \"price\",\n      \"properties\": {\n        \"dtype\": \"number\",\n        \"std\": 1388311,\n        \"min\": 200000,\n        \"max\": 5000000,\n        \"num_unique_values\": 4801,\n        \"samples\": [\n          3093000,\n          1553000,\n          1197000\n        ],\n        \"semantic_type\": \"\",\n        \"description\": \"\"\n      }\n    },\n    {\n      \"column\": \"seller_id\",\n      \"properties\": {\n        \"dtype\": \"category\",\n        \"num_unique_values\": 1777,\n        \"samples\": [\n          \"391fc6631aebcf3004804e51b40bcf1e\",\n          \"a89e143d5211473ae18db9577ee34b64\",\n          \"3586b8580d9c917874e053a1bb37b5ff\"\n        ],\n        \"semantic_type\": \"\",\n        \"description\": \"\"\n      }\n    },\n    {\n      \"column\": \"freight_value\",\n      \"properties\": {\n        \"dtype\": \"number\",\n        \"std\": 55179,\n        \"min\": 9000,\n        \"max\": 200000,\n        \"num_unique_values\": 192,\n        \"samples\": [\n          105000,\n          116000,\n          121000\n        ],\n        \"semantic_type\": \"\",\n        \"description\": \"\"\n      }\n    },\n    {\n      \"column\": \"customer_id\",\n      \"properties\": {\n        \"dtype\": \"string\",\n        \"num_unique_values\": 42694,\n        \"samples\": [\n          \"6f20d25d531f55dab91b8dff9d7ccb3b\",\n          \"f882aaf28af48842b1ca318f520f443c\",\n          \"85546bbf5243e477ca238fa6d21cff49\"\n        ],\n        \"semantic_type\": \"\",\n        \"description\": \"\"\n      }\n    },\n    {\n      \"column\": \"order_status\",\n      \"properties\": {\n        \"dtype\": \"category\",\n        \"num_unique_values\": 7,\n        \"samples\": [\n          \"shipped\",\n          \"canceled\",\n          \"processing\"\n        ],\n        \"semantic_type\": \"\",\n        \"description\": \"\"\n      }\n    },\n    {\n      \"column\": \"purchase_date\",\n      \"properties\": {\n        \"dtype\": \"date\",\n        \"min\": \"2016-09-05 00:00:00\",\n        \"max\": \"2017-12-15 00:00:00\",\n        \"num_unique_values\": 356,\n        \"samples\": [\n          \"2017-08-09 00:00:00\",\n          \"2017-02-05 00:00:00\",\n          \"2017-09-07 00:00:00\"\n        ],\n        \"semantic_type\": \"\",\n        \"description\": \"\"\n      }\n    },\n    {\n      \"column\": \"payment_type\",\n      \"properties\": {\n        \"dtype\": \"category\",\n        \"num_unique_values\": 4,\n        \"samples\": [\n          \"e-wallet\",\n          \"credit card\",\n          \"virtual account\"\n        ],\n        \"semantic_type\": \"\",\n        \"description\": \"\"\n      }\n    },\n    {\n      \"column\": \"product_category_name\",\n      \"properties\": {\n        \"dtype\": \"category\",\n        \"num_unique_values\": 8,\n        \"samples\": [\n          \"automotive\",\n          \"beauty\",\n          \"fashion\"\n        ],\n        \"semantic_type\": \"\",\n        \"description\": \"\"\n      }\n    },\n    {\n      \"column\": \"product_weight_gram\",\n      \"properties\": {\n        \"dtype\": \"number\",\n        \"std\": 3929.8968753726213,\n        \"min\": 50.0,\n        \"max\": 40425.0,\n        \"num_unique_values\": 1532,\n        \"samples\": [\n          12733.0,\n          2079.0,\n          1188.0\n        ],\n        \"semantic_type\": \"\",\n        \"description\": \"\"\n      }\n    }\n  ]\n}"
            }
          },
          "metadata": {},
          "execution_count": 8
        }
      ]
    },
    {
      "cell_type": "markdown",
      "source": [
        "**1. Check and prepare data to clean and handling missing values and ensuring consistency.**"
      ],
      "metadata": {
        "id": "Emon0b-2Dsc4"
      }
    },
    {
      "cell_type": "code",
      "source": [
        "# Checking for missing values in the dataset\n",
        "missing_values = df.isnull().sum()\n",
        "print(\"Missing values in each column:\\n\", missing_values)"
      ],
      "metadata": {
        "colab": {
          "base_uri": "https://localhost:8080/"
        },
        "id": "Rd5Ll2ztCyZk",
        "outputId": "a04e5cef-0005-4af4-a037-c7b05756222b"
      },
      "execution_count": 9,
      "outputs": [
        {
          "output_type": "stream",
          "name": "stdout",
          "text": [
            "Missing values in each column:\n",
            " order_id                  0\n",
            "quantity                  0\n",
            "product_id                0\n",
            "price                     0\n",
            "seller_id                 0\n",
            "freight_value             0\n",
            "customer_id               0\n",
            "order_status              0\n",
            "purchase_date             0\n",
            "payment_type              0\n",
            "product_category_name     0\n",
            "product_weight_gram      19\n",
            "dtype: int64\n"
          ]
        }
      ]
    },
    {
      "cell_type": "code",
      "source": [
        "# Filling missing values in the column 'product_weight_gram' with 0\n",
        "df['product_weight_gram'] = df['product_weight_gram'].fillna(0)"
      ],
      "metadata": {
        "id": "HPYUknhPDH0q"
      },
      "execution_count": 10,
      "outputs": []
    },
    {
      "cell_type": "code",
      "source": [
        "# Checking again if there are any missing values in the dataset\n",
        "missing_values = df.isnull().sum()\n",
        "print(\"Missing values in each column:\\n\", missing_values)"
      ],
      "metadata": {
        "colab": {
          "base_uri": "https://localhost:8080/"
        },
        "id": "gY19bMwSDNjv",
        "outputId": "c45345da-6393-4ca0-a609-f2ae364510ac"
      },
      "execution_count": 11,
      "outputs": [
        {
          "output_type": "stream",
          "name": "stdout",
          "text": [
            "Missing values in each column:\n",
            " order_id                 0\n",
            "quantity                 0\n",
            "product_id               0\n",
            "price                    0\n",
            "seller_id                0\n",
            "freight_value            0\n",
            "customer_id              0\n",
            "order_status             0\n",
            "purchase_date            0\n",
            "payment_type             0\n",
            "product_category_name    0\n",
            "product_weight_gram      0\n",
            "dtype: int64\n"
          ]
        }
      ]
    },
    {
      "cell_type": "markdown",
      "source": [
        "**2. Use Statistical methods to identify significant correlation/comparative/distribution/trending between variables from the data**"
      ],
      "metadata": {
        "id": "l5Oit_UWDzl9"
      }
    },
    {
      "cell_type": "code",
      "source": [
        "# Comparing the quantity of each product category\n",
        "comparison = df.groupby('product_category_name')['quantity'].sum()\n",
        "print(\"Comparison of Quantity by Product Category:\\n\", comparison)"
      ],
      "metadata": {
        "colab": {
          "base_uri": "https://localhost:8080/"
        },
        "id": "LiLkcy_CDe6I",
        "outputId": "fd3461ac-110c-47b1-8ccf-c05bc531ddcd"
      },
      "execution_count": 12,
      "outputs": [
        {
          "output_type": "stream",
          "name": "stdout",
          "text": [
            "Comparison of Quantity by Product Category:\n",
            " product_category_name\n",
            "automotive     7504\n",
            "beauty         7452\n",
            "electronics    7537\n",
            "fashion        7486\n",
            "gadget         7393\n",
            "sports         7411\n",
            "toys           7705\n",
            "utilities      7385\n",
            "Name: quantity, dtype: int64\n"
          ]
        }
      ]
    },
    {
      "cell_type": "markdown",
      "source": [
        "**3. Summaries the data with statistical analysis: Use descriptive statistics with aggregation function (i.e sum, count, average, min, max) for searching meaningful information such as: top product sales, total amount, average amount, etc**"
      ],
      "metadata": {
        "id": "Jesu8axPEMeF"
      }
    },
    {
      "cell_type": "code",
      "source": [
        "#Using Pandas Groupby method\n",
        "\n",
        "#To see top sales of product\n",
        "df_product = df.groupby('product_id')['quantity'].sum()\n",
        "top_products = df_product.nlargest(3)\n",
        "\n",
        "# Total amount (sum of price)\n",
        "total_amount = df['price'].sum()\n",
        "\n",
        "# Average amount (mean of price)\n",
        "average_amount = df['price'].mean()\n",
        "\n",
        "# Minimum and Maximum prices\n",
        "min_price = df['price'].min()\n",
        "max_price = df['price'].max()\n",
        "\n",
        "# Count unique order IDs\n",
        "total_orders = df['order_id'].nunique()  # Count unique order IDs\n",
        "\n",
        "\n",
        "print(\"Summary Statistical Analysis on Dataset\")\n",
        "print()\n",
        "print(\"Top Products by Sales:\")\n",
        "print(top_products)\n",
        "print()\n",
        "print(f\"Total Sales Amount: RM{total_amount:.2f}\")\n",
        "print()\n",
        "print(f\"Average Amount: RM{average_amount:.2f}\")\n",
        "print()\n",
        "print(f\"Minimum Price: RM{min_price:.2f}\")\n",
        "print(f\"Maximum Price: RM{max_price:.2f}\")\n",
        "print()\n",
        "print(f\"Total Number of Orders: {total_orders}\")"
      ],
      "metadata": {
        "colab": {
          "base_uri": "https://localhost:8080/"
        },
        "id": "o0KHfpiv7gX9",
        "outputId": "d4cdc1af-d059-4e35-e3d9-cbbccd497d41"
      },
      "execution_count": 21,
      "outputs": [
        {
          "output_type": "stream",
          "name": "stdout",
          "text": [
            "Summary Statistical Analysis on Dataset\n",
            "\n",
            "Top Products by Sales:\n",
            "product_id\n",
            "422879e10f46682990de24d770e7f83d    464\n",
            "99a4788cb24856965c36a24e339b6058    406\n",
            "389d119b48cf3043d311335e499d9c6b    285\n",
            "Name: quantity, dtype: int64\n",
            "\n",
            "Total Sales Amount: RM130386588000.00\n",
            "\n",
            "Average Amount: RM2607783.92\n",
            "\n",
            "Minimum Price: RM200000.00\n",
            "Maximum Price: RM5000000.00\n",
            "\n",
            "Total Number of Orders: 42694\n"
          ]
        }
      ]
    },
    {
      "cell_type": "code",
      "source": [
        "##Top Product Sales\n",
        "# Displaying Top Product Sales\n",
        "top_product_sales = df.groupby('product_id')['quantity'].sum().idxmax()\n",
        "print(\"Top Product ID:\", top_product_sales)\n",
        "\n",
        "# Displaying Total quantity sold of top product\n",
        "top_product_quantity = df.groupby('product_id')['quantity'].sum().max()\n",
        "print(\"Top Product Sales (Quantity):\", top_product_quantity)"
      ],
      "metadata": {
        "colab": {
          "base_uri": "https://localhost:8080/"
        },
        "id": "pNb1B4JtEbr6",
        "outputId": "a05ca646-386d-486a-9e37-78da471c06d6"
      },
      "execution_count": 13,
      "outputs": [
        {
          "output_type": "stream",
          "name": "stdout",
          "text": [
            "Top Product ID: 422879e10f46682990de24d770e7f83d\n",
            "Top Product Sales (Quantity): 464\n"
          ]
        }
      ]
    },
    {
      "cell_type": "code",
      "source": [
        "##Total Amount\n",
        "# Filter\n"
      ],
      "metadata": {
        "id": "FHpr_S7WEeQZ"
      },
      "execution_count": 22,
      "outputs": []
    },
    {
      "cell_type": "code",
      "source": [
        "##Average Amount"
      ],
      "metadata": {
        "id": "5U5nUxs0Ef4Z"
      },
      "execution_count": null,
      "outputs": []
    },
    {
      "cell_type": "markdown",
      "source": [
        "**4. Visualize the data with charts and graphs to see patterns and relationships (min.3 graph)**"
      ],
      "metadata": {
        "id": "rXQN8S2sFBTt"
      }
    },
    {
      "cell_type": "code",
      "source": [
        "##1\n",
        "# Visualizing sales trends monthly\n",
        "monthly_sales = df.resample('M', on='purchase_date')['quantity'].sum()\n",
        "plt.figure(figsize=(12, 6))\n",
        "monthly_sales.plot(kind='line')\n",
        "plt.title(\"Monthly Sales Trend\")\n",
        "plt.xlabel(\"Month\")\n",
        "plt.ylabel(\"Quantity Sold\")\n",
        "plt.show()"
      ],
      "metadata": {
        "colab": {
          "base_uri": "https://localhost:8080/",
          "height": 580
        },
        "id": "afsEX7KaFFcO",
        "outputId": "33149d18-bc97-4051-c9d8-37a77966417b"
      },
      "execution_count": 14,
      "outputs": [
        {
          "output_type": "display_data",
          "data": {
            "text/plain": [
              "<Figure size 1200x600 with 1 Axes>"
            ],
            "image/png": "[encoded data removed]"
          },
          "metadata": {}
        }
      ]
    },
    {
      "cell_type": "code",
      "source": [
        "##2\n",
        "# Distribution of prices\n",
        "sns.histplot(df['price'], kde=True)\n",
        "plt.title('Price Distribution')\n",
        "plt.show()\n",
        "\n",
        "# Boxplot of prices by order status\n",
        "sns.boxplot(x='order_status', y='price', data=df)\n",
        "plt.title('Price by Order Status')\n",
        "plt.show()"
      ],
      "metadata": {
        "id": "prJf6cRBFL50",
        "colab": {
          "base_uri": "https://localhost:8080/",
          "height": 927
        },
        "outputId": "f676a8eb-55a2-4600-f2cf-53513281e47a"
      },
      "execution_count": 15,
      "outputs": [
        {
          "output_type": "display_data",
          "data": {
            "text/plain": [
              "<Figure size 640x480 with 1 Axes>"
            ],
            "image/png": "[encoded data removed]"
          },
          "metadata": {}
        },
        {
          "output_type": "display_data",
          "data": {
            "text/plain": [
              "<Figure size 640x480 with 1 Axes>"
            ],
            "image/png": "[encoded data removed]"
          },
          "metadata": {}
        }
      ]
    },
    {
      "cell_type": "code",
      "source": [
        "##3\n",
        "# Displaying Proportion of Payment Methods\n",
        "payment_counts = df['payment_type'].value_counts()\n",
        "payment_proportions = payment_counts / payment_counts.sum()\n",
        "\n",
        "# Creating a pie chart\n",
        "plt.figure(figsize=(8, 6))\n",
        "payment_proportions.plot.pie(autopct='%1.1f%%', startangle=90, colors=['skyblue', 'lightgreen'])\n",
        "plt.title('Proportion of Payment Methods')\n",
        "plt.ylabel('')  # Remove y label\n",
        "plt.show()\n"
      ],
      "metadata": {
        "id": "hm71OQqGFUOR",
        "colab": {
          "base_uri": "https://localhost:8080/",
          "height": 521
        },
        "outputId": "7cc693cf-45b0-475d-aa12-be2e0467ec34"
      },
      "execution_count": 19,
      "outputs": [
        {
          "output_type": "display_data",
          "data": {
            "text/plain": [
              "<Figure size 800x600 with 1 Axes>"
            ],
            "image/png": "[encoded data removed]"
          },
          "metadata": {}
        }
      ]
    }
  ]
}